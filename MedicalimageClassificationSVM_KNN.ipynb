{
  "nbformat": 4,
  "nbformat_minor": 0,
  "metadata": {
    "colab": {
      "provenance": [],
      "gpuType": "T4",
      "authorship_tag": "ABX9TyPqUFJuFR0maJb3s2Kyga23",
      "include_colab_link": true
    },
    "kernelspec": {
      "name": "python3",
      "display_name": "Python 3"
    },
    "language_info": {
      "name": "python"
    }
  },
  "cells": [
    {
      "cell_type": "markdown",
      "metadata": {
        "id": "view-in-github",
        "colab_type": "text"
      },
      "source": [
        "<a href=\"https://colab.research.google.com/github/AliciaFalconCaro/MedicalImageClassificationExample/blob/main/MedicalimageClassificationSVM_KNN.ipynb\" target=\"_parent\"><img src=\"https://colab.research.google.com/assets/colab-badge.svg\" alt=\"Open In Colab\"/></a>"
      ]
    },
    {
      "cell_type": "markdown",
      "source": [
        "We will perform some basic medical image classification techniques.\n",
        "The purpose is to compare traditional techniques with DL techniques.\n",
        "\n",
        "For this mini-project, we will use the public dataset available here: https://www.kaggle.com/datasets/nodoubttome/skin-cancer9-classesisic/data\n",
        "\n",
        "The dataset is already separated in two folders: train and test. It contains multiple images from different skin cancers. In total, there are 6 classes of cancer in the dataset."
      ],
      "metadata": {
        "id": "V-9hEDH0DhIT"
      }
    },
    {
      "cell_type": "markdown",
      "source": [
        "Let's start with loading the data and having a quick look at it"
      ],
      "metadata": {
        "id": "sAmkwzicFaHH"
      }
    },
    {
      "cell_type": "code",
      "source": [
        "import os\n",
        "import cv2\n",
        "import numpy as np\n",
        "import pandas as pd\n",
        "\n",
        "# Function to load images and labels\n",
        "def load_data_from_folder(base_dir, img_size=(64, 64)):\n",
        "    images = []\n",
        "    labels = []\n",
        "    label_map = {}  # Mapping folder names to numeric labels\n",
        "    current_label = 0\n",
        "\n",
        "    for label_name in sorted(os.listdir(base_dir)):  # Sort for consistent ordering\n",
        "        label_path = os.path.join(base_dir, label_name)\n",
        "        if os.path.isdir(label_path):  # Ensure it's a folder\n",
        "            label_map[label_name] = current_label\n",
        "            for img_file in os.listdir(label_path):\n",
        "                img_path = os.path.join(label_path, img_file)\n",
        "                # Read the image\n",
        "                img = cv2.imread(img_path)\n",
        "                if img is not None:\n",
        "                    img = cv2.resize(img, img_size)  # Resize to consistent size\n",
        "                    images.append(img)\n",
        "                    labels.append(current_label)  # Append numeric label\n",
        "            current_label += 1\n",
        "\n",
        "    return np.array(images), np.array(labels), label_map\n",
        "\n",
        "# Load the data (it will be resized)\n",
        "X_train, y_train, train_label_map = load_data_from_folder('./Skin_Cancer_ISIC_Data/train')\n",
        "X_test, y_test, test_label_map = load_data_from_folder('./Skin_Cancer_ISIC_Data/test')\n",
        "\n",
        "print(f\"Training data: {X_train.shape}, Labels: {y_train.shape}\")\n",
        "print(f\"Test data: {X_test.shape}, Labels: {y_test.shape}\")\n",
        "print(f\"Label Map: {train_label_map}\")"
      ],
      "metadata": {
        "id": "3lkviyE0FnHo"
      },
      "execution_count": null,
      "outputs": []
    },
    {
      "cell_type": "code",
      "source": [
        "#now we normalize the data\n",
        "# Normalize the images\n",
        "X_train = X_train / 255.0 #image pixels are usually between [0 255]\n",
        "X_test = X_test / 255.0\n",
        "\n",
        "print(f\"Training data: {X_train.shape}, Labels: {y_train.shape}\")\n",
        "print(f\"Test data: {X_test.shape}, Labels: {y_test.shape}\")\n",
        "print(f\"Label Map: {train_label_map}\")"
      ],
      "metadata": {
        "id": "dYPujKB1R9__"
      },
      "execution_count": null,
      "outputs": []
    },
    {
      "cell_type": "code",
      "source": [
        "#feature extraction through HOG (Histogram of Oriented Gradients)\n",
        "\n",
        "from skimage.feature import hog\n",
        "\n",
        "# Extract HOG features\n",
        "def extract_hog_features(images):\n",
        "    features = []\n",
        "    for img in images:\n",
        "        # Convert to grayscale for HOG\n",
        "        gray = cv2.cvtColor((img * 255).astype('uint8'), cv2.COLOR_RGB2GRAY)\n",
        "        feature = hog(gray, pixels_per_cell=(8, 8), cells_per_block=(2, 2), block_norm='L2-Hys')\n",
        "        features.append(feature)\n",
        "    return np.array(features)\n",
        "\n",
        "X_train_hog = extract_hog_features(X_train)\n",
        "X_test_hog = extract_hog_features(X_test)\n"
      ],
      "metadata": {
        "id": "tYo80oj4FvI_"
      },
      "execution_count": null,
      "outputs": []
    },
    {
      "cell_type": "code",
      "source": [
        "from sklearn.svm import SVC\n",
        "from sklearn.metrics import classification_report, accuracy_score\n",
        "\n",
        "# Train SVM, KNN and KNN (5 neighbours) classifier\n",
        "svmClassifier = SVC(kernel='linear', random_state=42)\n",
        "svmClassifier.fit(X_train_hog, y_train)\n",
        "\n",
        "KNNclassifier = KNeighborsClassifier(n_neighbors=5)\n",
        "KNNclassifier.fit(X_train_hog, y_train)\n",
        "\n",
        "\n",
        "\n",
        "# Evaluate\n",
        "y_predSVM = svmClassifier.predict(X_test_hog)\n",
        "print(\"Accuracy:\", accuracy_score(y_test, y_predSVM))\n",
        "print(\"Confusion Matrix SVM:\\n\",confusion_matrix(y_test, y_predSVM))\n",
        "\n",
        "ypredKNN = KNNclassifier.predict(X_test_hog)\n",
        "print(\"Accuracy:\", accuracy_score(y_test, ypredKNN))\n",
        "print(\"Confusion Matrix KNN:\\n\",confusion_matrix(y_test, ypredKNN))\n"
      ],
      "metadata": {
        "id": "J1CJhJhBF674"
      },
      "execution_count": null,
      "outputs": []
    },
    {
      "cell_type": "code",
      "source": [
        "#visualise results\n",
        "import matplotlib.pyplot as plt\n",
        "\n",
        "# Plot examples\n",
        "def plot_results(images, true_labels, pred_labels, le, n=5):\n",
        "    fig, axes = plt.subplots(1, n, figsize=(15, 5))\n",
        "    for i, ax in enumerate(axes):\n",
        "        ax.imshow(images[i])\n",
        "        title = f\"True: {le.inverse_transform([true_labels[i]])[0]}\\nPred: {le.inverse_transform([pred_labels[i]])[0]}\"\n",
        "        ax.set_title(title, fontsize=10)\n",
        "        ax.axis('off')\n",
        "    plt.show()\n",
        "\n",
        "print(\"Plot for SVM:\\n\")\n",
        "plot_results(X_test, y_test, y_predSVM, le)\n",
        "\n",
        "print (\"Plot for KNN:\\n\")\n",
        "plot_results(X_test, y_test, y_predKNN, le)\n",
        "\n"
      ],
      "metadata": {
        "id": "1qYMBa19F9Ln"
      },
      "execution_count": null,
      "outputs": []
    }
  ]
}