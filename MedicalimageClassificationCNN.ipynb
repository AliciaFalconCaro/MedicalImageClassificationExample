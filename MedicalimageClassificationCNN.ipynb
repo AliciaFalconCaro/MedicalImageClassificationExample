{
  "nbformat": 4,
  "nbformat_minor": 0,
  "metadata": {
    "colab": {
      "provenance": [],
      "gpuType": "T4",
      "authorship_tag": "ABX9TyO2CU59zRoIG0YV9KLyXcGO",
      "include_colab_link": true
    },
    "kernelspec": {
      "name": "python3",
      "display_name": "Python 3"
    },
    "language_info": {
      "name": "python"
    },
    "accelerator": "GPU"
  },
  "cells": [
    {
      "cell_type": "markdown",
      "metadata": {
        "id": "view-in-github",
        "colab_type": "text"
      },
      "source": [
        "<a href=\"https://colab.research.google.com/github/AliciaFalconCaro/MedicalImageClassificationExample/blob/main/MedicalimageClassificationCNN.ipynb\" target=\"_parent\"><img src=\"https://colab.research.google.com/assets/colab-badge.svg\" alt=\"Open In Colab\"/></a>"
      ]
    },
    {
      "cell_type": "markdown",
      "source": [
        "We will perform some basic medical image classification techniques.\n",
        "The purpose is to compare traditional techniques with DL techniques.\n",
        "\n",
        "For this mini-project, we will use the public dataset available here: https://www.kaggle.com/datasets/nodoubttome/skin-cancer9-classesisic/data\n",
        "\n",
        "The dataset is already separated in two folders: train and test. It contains multiple images from different skin cancers. In total, there are 6 classes of cancer in the dataset."
      ],
      "metadata": {
        "id": "V-9hEDH0DhIT"
      }
    },
    {
      "cell_type": "markdown",
      "source": [
        "Let's start with loading the data and having a quick look at it"
      ],
      "metadata": {
        "id": "sAmkwzicFaHH"
      }
    },
    {
      "cell_type": "code",
      "source": [
        "import tensorflow as tf\n",
        "\n",
        "# Define paths\n",
        "train_dir = './Skin_Cancer_ISIC_Data/train'\n",
        "test_dir = './Skin_Cancer_ISIC_Data/test'\n",
        "\n",
        "# Load training and testing datasets\n",
        "imageSize = (64, 64)  # Resize to 64x64\n",
        "\n",
        "train_dataset = tf.keras.utils.image_dataset_from_directory(train_dir,\n",
        "    labels='inferred',  # Automatically infer labels from folder names\n",
        "    label_mode='int',   # Labels will be integers\n",
        "    image_size=imageSize,\n",
        "    batch_size=32,      # Batch size for training\n",
        "    shuffle=True        # Shuffle the dataset\n",
        ")\n",
        "\n",
        "test_dataset = tf.keras.utils.image_dataset_from_directory(test_dir,labels='inferred',label_mode='int',image_size=imageSize,batch_size=32,\n",
        "    shuffle=False       # No need to shuffle test data\n",
        ")\n",
        "\n",
        "# Normalize pixel values to [0, 1]\n",
        "normalization_layer = tf.keras.layers.Rescaling(1./255)\n",
        "train_dataset = train_dataset.map(lambda x, y: (normalization_layer(x), y))\n",
        "test_dataset = test_dataset.map(lambda x, y: (normalization_layer(x), y))\n",
        "\n",
        "#since we are using DL with CNN, no more propocessing steps are necessary. However, they could improve the accuracy/performance of the model\n",
        "#we could use data augmentation or feature extraction techniques\n"
      ],
      "metadata": {
        "id": "hDQWzNn1JKSh"
      },
      "execution_count": null,
      "outputs": []
    },
    {
      "cell_type": "code",
      "source": [
        "# Split train dataset into train and validation\n",
        "val_dataset = train_dataset.take(20)  # Take 20 batches for validation\n",
        "train_dataset = train_dataset.skip(20)  # Rest is training data\n",
        "\n",
        "# Autotune and prefetch to improve GPU performance (similar to parallel processing)\n",
        "AUTOTUNE = tf.data.AUTOTUNE\n",
        "train_dataset = train_dataset.prefetch(buffer_size=AUTOTUNE)\n",
        "val_dataset = val_dataset.prefetch(buffer_size=AUTOTUNE)\n",
        "test_dataset = test_dataset.prefetch(buffer_size=AUTOTUNE)\n",
        "\n",
        "\n",
        "# View class names\n",
        "class_names = train_dataset.class_names\n",
        "print(\"Class names:\", class_names)"
      ],
      "metadata": {
        "id": "jLQKit5HKc47"
      },
      "execution_count": null,
      "outputs": []
    },
    {
      "cell_type": "code",
      "source": [
        "# Define CNN model\n",
        "model = models.Sequential([\n",
        "    layers.Conv2D(32, (3, 3), activation='relu', input_shape=(64, 64, 3)),\n",
        "    layers.MaxPooling2D((2, 2)),\n",
        "    layers.Conv2D(64, (3, 3), activation='relu'),\n",
        "    layers.MaxPooling2D((2, 2)),\n",
        "    layers.Conv2D(128, (3, 3), activation='relu'),\n",
        "    layers.MaxPooling2D((2, 2)),\n",
        "    layers.Flatten(),\n",
        "    layers.Dense(128, activation='relu'),\n",
        "    layers.Dense(len(class_names), activation='softmax')\n",
        "])\n",
        "\n",
        "model.compile(optimizer='adam',\n",
        "              loss='sparse_categorical_crossentropy',  # Use sparse since labels are integers\n",
        "              metrics=['accuracy'])\n",
        "\n",
        "# View model summary\n",
        "model.summary()\n"
      ],
      "metadata": {
        "id": "JovndUNbKn6w"
      },
      "execution_count": null,
      "outputs": []
    },
    {
      "cell_type": "code",
      "source": [
        "# Train the model\n",
        "history = model.fit(train_dataset,validation_data=val_dataset, epochs=10)"
      ],
      "metadata": {
        "id": "DZEL3rqvK3SL"
      },
      "execution_count": null,
      "outputs": []
    },
    {
      "cell_type": "code",
      "source": [
        "#save trained model\n",
        "model.save('model.h5') #can also be saved as tensorflow format instead"
      ],
      "metadata": {
        "id": "sKm2DyXINaWC"
      },
      "execution_count": null,
      "outputs": []
    },
    {
      "cell_type": "code",
      "source": [
        "# Evaluate model on test set\n",
        "test_loss, test_accuracy = model.evaluate(test_dataset)\n",
        "print(f\"Test Accuracy: {test_accuracy:.2f}\")\n"
      ],
      "metadata": {
        "id": "TQHGkim1LBpz"
      },
      "execution_count": null,
      "outputs": []
    },
    {
      "cell_type": "code",
      "source": [
        "import matplotlib.pyplot as plt\n",
        "\n",
        "# Plot accuracy\n",
        "plt.plot(history.history['accuracy'], label='Training Accuracy')\n",
        "plt.plot(history.history['val_accuracy'], label='Validation Accuracy')\n",
        "plt.xlabel('Epochs')\n",
        "plt.ylabel('Accuracy')\n",
        "plt.legend()\n",
        "plt.title('Training and Validation Accuracy')\n",
        "plt.show()\n",
        "\n",
        "# Plot loss\n",
        "plt.plot(history.history['loss'], label='Training Loss')\n",
        "plt.plot(history.history['val_loss'], label='Validation Loss')\n",
        "plt.xlabel('Epochs')\n",
        "plt.ylabel('Loss')\n",
        "plt.legend()\n",
        "plt.title('Training and Validation Loss')\n",
        "plt.show()\n"
      ],
      "metadata": {
        "id": "PlIDIqNxLRN5"
      },
      "execution_count": null,
      "outputs": []
    },
    {
      "cell_type": "markdown",
      "source": [
        "We visualise the results of the test data with a confusion matrix."
      ],
      "metadata": {
        "id": "KMz31V0GOWQ-"
      }
    },
    {
      "cell_type": "code",
      "source": [
        "from sklearn.metrics import confusion_matrix\n",
        "import seaborn as sns\n",
        "import numpy as np\n",
        "\n",
        "# Get predictions on the test set\n",
        "y_pred = model.predict(test_dataset)\n",
        "y_true = np.array([y for _, y in test_dataset])\n",
        "\n",
        "# Convert to class labels\n",
        "y_pred_classes = np.argmax(y_pred, axis=1)\n",
        "y_true_classes = np.argmax(y_true, axis=1)\n",
        "\n",
        "# Compute confusion matrix\n",
        "cm = confusion_matrix(y_true_classes, y_pred_classes)\n",
        "\n",
        "# Plot confusion matrix\n",
        "plt.figure(figsize=(8, 6))\n",
        "sns.heatmap(cm, annot=True, fmt='d', cmap='Blues', xticklabels=class_names, yticklabels=class_names)\n",
        "plt.xlabel('Predicted Labels')\n",
        "plt.ylabel('True Labels')\n",
        "plt.title('Confusion Matrix')\n",
        "plt.show()\n",
        "\n"
      ],
      "metadata": {
        "id": "1qYMBa19F9Ln"
      },
      "execution_count": null,
      "outputs": []
    },
    {
      "cell_type": "markdown",
      "source": [
        "If we wanted a more detailed evaluation of the model performance, we could obtain and print the classification report:"
      ],
      "metadata": {
        "id": "ac-BbzDJOb3Q"
      }
    },
    {
      "cell_type": "code",
      "source": [
        "from sklearn.metrics import classification_report\n",
        "\n",
        "print(classification_report(y_true_classes, y_pred_classes, target_names=class_names))\n"
      ],
      "metadata": {
        "id": "RwFq_EtGOmuq"
      },
      "execution_count": null,
      "outputs": []
    }
  ]
}